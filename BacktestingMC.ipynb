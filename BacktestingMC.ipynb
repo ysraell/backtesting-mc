{
 "cells": [
  {
   "cell_type": "markdown",
   "metadata": {},
   "source": [
    "# Bacbacktesting Monte Carlo Based\n",
    "\n",
    "\"Backtesting is used in technical analysis to assess the viability of trading strategies without real capital by simulating past market conditions, considering factors such as historical data quality, strategy accuracy, and risk management.\" [1]\n",
    "\n",
    "[1] [Quantified Strategies, Backtesting Technical Analysis (Results)](https://tradingstrategy.medium.com/backtesting-technical-analysis-bb34ec4b423c)\n",
    "\n",
    "**Issue:** The historical series may have a noisy component that can lead to poor analysis.\n",
    "\n",
    "**Solution:** By decomposing the series into trend, seasonality and residual (also known as noise), we can simulate many possible historical series. The noise can be composed of many types of interferences in stock prices: political and economic transition effects, speculative attacks, etc. So, the residual can well represent the transitory effects.\n",
    "\n",
    "## Backtesting Analysis\n",
    "\n",
    "Overview about the proposed method:\n",
    "\n",
    "![](bt.png)\n",
    "\n",
    "\n",
    "## Backtesting Analysis Monte Carlo Based\n",
    "\n",
    "Instead of doing just one simulation, we run many simulations, many variations of the past. \n",
    "\n",
    "![](btmc.png)\n",
    "\n",
    "\n",
    "### Monte Carlo Simulations\n",
    "\n",
    "Using the historical series, we replicate the series N times, doing N simulations. The optimizer step will rank the best strategies (and parameters) for each company.\n",
    "\n",
    "![](mcsim.png)\n",
    "\n",
    "### Replication Step\n",
    "\n",
    "We use the parts of the decomposed series to reconstruct a main series (clean signal), without the residual. With the residual, we generate N noisy signals (series) with the same standard deviation and mean (similar noisy properties) combining with the clean signal. This is the core of the method.\n",
    "\n",
    "![](repstep.png)\n",
    "\n",
    "\n",
    "\n",
    "- Author: Israel Oliveira [\\[e-mail\\]](mailto:'Israel%20Oliveira%20'<prof.israel@gmail.com>)"
   ]
  },
  {
   "cell_type": "code",
   "execution_count": 1,
   "metadata": {
    "execution": {
     "iopub.execute_input": "2024-11-24T20:03:36.047660Z",
     "iopub.status.busy": "2024-11-24T20:03:36.047145Z",
     "iopub.status.idle": "2024-11-24T20:03:36.059897Z",
     "shell.execute_reply": "2024-11-24T20:03:36.059324Z",
     "shell.execute_reply.started": "2024-11-24T20:03:36.047643Z"
    }
   },
   "outputs": [],
   "source": [
    "%load_ext watermark"
   ]
  },
  {
   "cell_type": "code",
   "execution_count": 2,
   "metadata": {
    "execution": {
     "iopub.execute_input": "2024-11-24T20:03:36.438096Z",
     "iopub.status.busy": "2024-11-24T20:03:36.437311Z",
     "iopub.status.idle": "2024-11-24T20:03:36.980344Z",
     "shell.execute_reply": "2024-11-24T20:03:36.979698Z",
     "shell.execute_reply.started": "2024-11-24T20:03:36.438035Z"
    }
   },
   "outputs": [],
   "source": [
    "import pandas as pd\n",
    "from src.helpers import get_data_history, company_code_list, get_data_history_BackMC\n",
    "import src.advanced_strategies as advanced_strategies\n",
    "import src.momentum as momentum\n",
    "import src.overlap as overlap\n",
    "import json\n",
    "import numpy as np\n",
    "from statsmodels.tsa.seasonal import seasonal_decompose\n",
    "from tqdm.contrib.concurrent import process_map"
   ]
  },
  {
   "cell_type": "code",
   "execution_count": 11,
   "metadata": {
    "execution": {
     "iopub.execute_input": "2024-11-24T20:07:45.645556Z",
     "iopub.status.busy": "2024-11-24T20:07:45.644604Z",
     "iopub.status.idle": "2024-11-24T20:07:45.659069Z",
     "shell.execute_reply": "2024-11-24T20:07:45.657749Z",
     "shell.execute_reply.started": "2024-11-24T20:07:45.645490Z"
    }
   },
   "outputs": [],
   "source": [
    "from tqdm.notebook import tqdm\n",
    "\n",
    "# from glob import glob\n",
    "\n",
    "import matplotlib.pyplot as plt\n",
    "%matplotlib inline\n",
    "from matplotlib import rcParams\n",
    "from cycler import cycler\n",
    "\n",
    "rcParams['figure.figsize'] = 12, 8 # 18, 5\n",
    "rcParams['axes.spines.top'] = False\n",
    "rcParams['axes.spines.right'] = False\n",
    "rcParams['axes.grid'] = True\n",
    "rcParams['axes.prop_cycle'] = cycler(color=['#365977'])\n",
    "rcParams['lines.linewidth'] = 2.5\n",
    "\n",
    "# import seaborn as sns\n",
    "# sns.set_theme()\n",
    "\n",
    "# pd.set_option(\"max_columns\", None)\n",
    "# pd.set_option(\"max_rows\", None)\n",
    "# pd.set_option('display.max_colwidth', None)\n",
    "\n",
    "from IPython.display import Markdown, display\n",
    "def md(arg):\n",
    "    display(Markdown(arg))\n",
    "\n",
    "# from pandas_profiling import ProfileReport\n",
    "# #report = ProfileReport(#DataFrame here#, minimal=True)\n",
    "# #report.to\n",
    "\n",
    "# import pyarrow.parquet as pq\n",
    "# #df = pq.ParquetDataset(path_to_folder_with_parquets, filesystem=None).read_pandas().to_pandas()\n",
    "\n",
    "# import functools\n",
    "# import operator\n",
    "# def flat(a):\n",
    "#     return functools.reduce(operator.iconcat, a, [])\n",
    "\n",
    "\n",
    "######### LoadDicts\n",
    "\n",
    "# import json\n",
    "# from glob import glob\n",
    "# from typing import Any\n",
    "# from typing import NewType\n",
    "\n",
    "# def np_encoder(object):\n",
    "#     if isinstance(object, np.generic):\n",
    "#         return object.item()\n",
    "\n",
    "\n",
    "# DictsPathType = NewType(\"DictsPath\", str)\n",
    "\n",
    "\n",
    "# def load_file_json(path: DictsPathType):\n",
    "#     with open(path, \"r\") as f:\n",
    "#         return json.load(f)\n",
    "\n",
    "\n",
    "# def dump_file_json(path: DictsPathType, var: Any):\n",
    "#     with open(path, \"w\") as f:\n",
    "#         return json.dump(var, f, indent=4, default=np_encoder)\n",
    "\n",
    "\n",
    "# class LoadDicts:\n",
    "#     def __init__(\n",
    "#         self, dict_path: DictsPathType = \"./data\", ignore_errors: bool = False\n",
    "#     ):\n",
    "#         Dicts_glob = Path().glob(f\"{dict_path}/*.json\")\n",
    "#         self.List = []\n",
    "#         self.Dict = {}\n",
    "#         self.not_attr = []\n",
    "#         for path_json in Dicts_glob:\n",
    "#             try:\n",
    "#                 name = path_json.as_posix().split(\"/\")[-1].replace(\".json\", \"\")\n",
    "#                 self.List.append(name)\n",
    "#                 self.Dict[name] = load_file_json(path_json)\n",
    "#                 if name.isidentifier() and not iskeyword(name):\n",
    "#                     setattr(self, name, self.Dict[name])\n",
    "#                 else:\n",
    "#                     self.not_attr.append(name)\n",
    "#             except Exception as e:\n",
    "#                 print(f\"Error trying to load the file: {path_json.absolute()}: \")\n",
    "#                 if not ignore_errors:\n",
    "#                     raise e\n",
    "#                 print(e)\n",
    "                \n",
    "#     def __len__(self):\n",
    "#         return len(self.List)\n",
    "    \n",
    "#     def items(self):\n",
    "#         for item in self.List:\n",
    "#             yield item, self.Dict[item]\n",
    "\n",
    "#     def __repr__(self) -> str:\n",
    "#         return \"LoadDicts: {}\".format(\", \".join(self.List))"
   ]
  },
  {
   "cell_type": "code",
   "execution_count": 4,
   "metadata": {
    "execution": {
     "iopub.execute_input": "2024-11-24T20:03:38.062894Z",
     "iopub.status.busy": "2024-11-24T20:03:38.062123Z",
     "iopub.status.idle": "2024-11-24T20:03:38.380529Z",
     "shell.execute_reply": "2024-11-24T20:03:38.378531Z",
     "shell.execute_reply.started": "2024-11-24T20:03:38.062845Z"
    }
   },
   "outputs": [
    {
     "name": "stdout",
     "output_type": "stream",
     "text": [
      "Python implementation: CPython\n",
      "Python version       : 3.11.10\n",
      "IPython version      : 8.27.0\n",
      "\n",
      "Compiler    : GCC 13.2.0\n",
      "OS          : Linux\n",
      "Release     : 6.8.0-49-generic\n",
      "Machine     : x86_64\n",
      "Processor   : x86_64\n",
      "CPU cores   : 20\n",
      "Architecture: 64bit\n",
      "\n",
      "Git hash: c2de496bb1695943dcf959fcf4b242b5034b7398\n",
      "\n",
      "Git repo: https://github.com/ysraell/forward-testing-mc.git\n",
      "\n",
      "Git branch: main\n",
      "\n",
      "numpy     : 2.1.3\n",
      "pandas    : 2.2.3\n",
      "json      : 2.0.9\n",
      "matplotlib: 3.9.2\n",
      "\n",
      "CPU\t: 12th Gen Intel(R) Core(TM) i7-12700\n",
      "Mem:            31G\n",
      "Swap:          3.7G\n"
     ]
    }
   ],
   "source": [
    "# Run this cell before close.\n",
    "%watermark -d --iversion -b -r -g -m -v\n",
    "!cat /proc/cpuinfo |grep 'model name'|head -n 1 |sed -e 's/model\\ name/CPU/'\n",
    "!free -h |cut -d'i' -f1  |grep -v total"
   ]
  },
  {
   "cell_type": "markdown",
   "metadata": {},
   "source": [
    "# 1. Simulation Step"
   ]
  },
  {
   "cell_type": "code",
   "execution_count": 5,
   "metadata": {
    "execution": {
     "iopub.execute_input": "2024-11-24T20:03:39.150518Z",
     "iopub.status.busy": "2024-11-24T20:03:39.149897Z",
     "iopub.status.idle": "2024-11-24T20:03:39.159909Z",
     "shell.execute_reply": "2024-11-24T20:03:39.158220Z",
     "shell.execute_reply.started": "2024-11-24T20:03:39.150469Z"
    }
   },
   "outputs": [],
   "source": [
    "data_path = '/home/israel/tmp'\n",
    "intraday_data = f\"{data_path}/intraday_data\""
   ]
  },
  {
   "cell_type": "code",
   "execution_count": null,
   "metadata": {},
   "outputs": [],
   "source": [
    "strategies = [\n",
    "    advanced_strategies.ADXRSI,\n",
    "    advanced_strategies.WilliansppRMACD,\n",
    "    overlap.SMA,\n",
    "    overlap.SuperTrend,\n",
    "    momentum.AwesomeOscillator,\n",
    "    momentum.CommodityChannelIndex,\n",
    "    momentum.CoppockCurve,\n",
    "    momentum.WilliansppR,\n",
    "    momentum.MACD,\n",
    "]\n"
   ]
  },
  {
   "cell_type": "code",
   "execution_count": null,
   "metadata": {},
   "outputs": [],
   "source": [
    "{class_obj.__name__ : [] for class_obj in strategies}"
   ]
  },
  {
   "cell_type": "markdown",
   "metadata": {
    "execution": {
     "iopub.execute_input": "2024-11-24T19:57:32.987149Z",
     "iopub.status.busy": "2024-11-24T19:57:32.986763Z",
     "iopub.status.idle": "2024-11-24T19:57:32.993453Z",
     "shell.execute_reply": "2024-11-24T19:57:32.991972Z",
     "shell.execute_reply.started": "2024-11-24T19:57:32.987112Z"
    }
   },
   "source": [
    "### Methods and parameters"
   ]
  },
  {
   "cell_type": "code",
   "execution_count": null,
   "metadata": {},
   "outputs": [],
   "source": [
    "lookback_days_list = list(range(5, 65, 5))\n",
    "strategies_params = {\n",
    "    'ADXRSI': [\n",
    "        {\n",
    "            'LOOKBACK_STRATEGY_PARAM': lookback_days_list,\n",
    "            'RSI': True,\n",
    "            'ADX': True,\n",
    "        },\n",
    "        {\n",
    "            'LOOKBACK_STRATEGY_PARAM': lookback_days_list,\n",
    "            'RSI': False,\n",
    "            'ADX': True,\n",
    "        },\n",
    "        {\n",
    "            'LOOKBACK_STRATEGY_PARAM': lookback_days_list,\n",
    "            'RSI': True,\n",
    "            'ADX': False,\n",
    "        },\n",
    "    ],\n",
    "    'MACD': [\n",
    "        {\n",
    "            'slow': 26,\n",
    "            'fast': 12,\n",
    "            'smooth': 9\n",
    "        },\n",
    "        {\n",
    "            'slow': 20,\n",
    "            'fast': 10,\n",
    "            'smooth': 5\n",
    "        },\n",
    "        {\n",
    "            'slow': 25,\n",
    "            'fast': 15,\n",
    "            'smooth': 5\n",
    "        },\n",
    "        {\n",
    "            'slow': 25,\n",
    "            'fast': 15,\n",
    "            'smooth': 10\n",
    "        },\n",
    "    ],\n",
    "    'WilliansppRMACD': [\n",
    "        {\n",
    "            'LOOKBACK_STRATEGY_PARAM': lookback_days_list,\n",
    "            'slow': 26,\n",
    "            'fast': 12,\n",
    "            'smooth': 9\n",
    "        },\n",
    "        {\n",
    "            'LOOKBACK_STRATEGY_PARAM': lookback_days_list,\n",
    "            'slow': 20,\n",
    "            'fast': 10,\n",
    "            'smooth': 5\n",
    "        },\n",
    "        {\n",
    "            'LOOKBACK_STRATEGY_PARAM': lookback_days_list,\n",
    "            'slow': 25,\n",
    "            'fast': 15,\n",
    "            'smooth': 5\n",
    "        },\n",
    "        {\n",
    "            'LOOKBACK_STRATEGY_PARAM': lookback_days_list,\n",
    "            'slow': 25,\n",
    "            'fast': 15,\n",
    "            'smooth': 10\n",
    "        },\n",
    "    ],\n",
    "    'SMA': [\n",
    "        {\n",
    "            'SHORT_WINDOW': 20,\n",
    "            'LONG_WINDOW': 50,\n",
    "        },\n",
    "        {\n",
    "            'SHORT_WINDOW': 10,\n",
    "            'LONG_WINDOW': 30,\n",
    "        },\n",
    "        {\n",
    "            'SHORT_WINDOW': 5,\n",
    "            'LONG_WINDOW': 20,\n",
    "        },\n",
    "        {\n",
    "            'SHORT_WINDOW': 5,\n",
    "            'LONG_WINDOW': 15,\n",
    "        },\n",
    "        {\n",
    "            'SHORT_WINDOW': 5,\n",
    "            'LONG_WINDOW': 10,\n",
    "        },\n",
    "    ],\n",
    "    'SuperTrend': [\n",
    "        {\n",
    "            'LOOKBACK_STRATEGY_PARAM': lookback_days_list,\n",
    "            'MULTIPLIER': 2\n",
    "        },\n",
    "        {\n",
    "            'LOOKBACK_STRATEGY_PARAM': lookback_days_list,\n",
    "            'MULTIPLIER': 3\n",
    "        },\n",
    "        {\n",
    "            'LOOKBACK_STRATEGY_PARAM': lookback_days_list,\n",
    "            'MULTIPLIER': 5\n",
    "        }\n",
    "    ],\n",
    "    'AwesomeOscillator': [\n",
    "        {\n",
    "            'short_period': 5,\n",
    "            'long_period': 15\n",
    "        },\n",
    "        {\n",
    "            'short_period': 5,\n",
    "            'long_period': 25\n",
    "        },\n",
    "        {\n",
    "            'short_period': 5,\n",
    "            'long_period': 35\n",
    "        },\n",
    "        {\n",
    "            'short_period': 10,\n",
    "            'long_period': 35\n",
    "        },\n",
    "    ],\n",
    "    'CommodityChannelIndex': [\n",
    "        {\n",
    "            'LOOKBACK_STRATEGY_PARAM': lookback_days_list\n",
    "        },\n",
    "    ],\n",
    "    'CoppockCurve': [\n",
    "        {\n",
    "            'shortROC': 5,\n",
    "            'longROC': 15,\n",
    "            'lookbackWMA': 10,\n",
    "        },\n",
    "        {\n",
    "            'shortROC': 10,\n",
    "            'longROC': 20,\n",
    "            'lookbackWMA': 15,\n",
    "        },\n",
    "        {\n",
    "            'shortROC': 15,\n",
    "            'longROC': 30,\n",
    "            'lookbackWMA': 20,\n",
    "        },\n",
    "        {\n",
    "            'shortROC': 20,\n",
    "            'longROC': 35,\n",
    "            'lookbackWMA': 25,\n",
    "        },\n",
    "    ],\n",
    "    'WilliansppR': [\n",
    "        {\n",
    "            'LOOKBACK_STRATEGY_PARAM': lookback_days_list\n",
    "        }\n",
    "    ]\n",
    "}"
   ]
  },
  {
   "cell_type": "markdown",
   "metadata": {},
   "source": [
    "# 1.1 Backtesting Traditional"
   ]
  },
  {
   "cell_type": "code",
   "execution_count": null,
   "metadata": {},
   "outputs": [],
   "source": [
    "results = []\n",
    "periods = [\"1st\", \"2nd\", \"year\"]\n",
    "total = len(periods) * len(company_code_list) * len(strategies)\n",
    "with tqdm(total=total) as pbar:\n",
    "    for period in periods:\n",
    "        for comp_code in company_code_list:\n",
    "            df_past, df_future = get_data_history(comp_code, intraday_data, period)\n",
    "            for class_obj in strategies:\n",
    "                class_params = strategies_params[class_obj.__name__]\n",
    "                run_params = []\n",
    "                for params in class_params:\n",
    "                    if 'LOOKBACK_STRATEGY_PARAM' not in params:\n",
    "                        run_params.append(params)\n",
    "                    else:\n",
    "                        for lb in params['LOOKBACK_STRATEGY_PARAM']:\n",
    "                            tmp = dict(params)\n",
    "                            tmp['LOOKBACK_STRATEGY_PARAM'] = lb\n",
    "                            run_params.append(tmp)\n",
    "                for params in run_params:\n",
    "                    tmp = [\n",
    "                        period,\n",
    "                        comp_code,\n",
    "                        class_obj.__name__,\n",
    "                        json.dumps(params),\n",
    "                    ]   \n",
    "                    algo = class_obj(params)\n",
    "                    algo.apply_strategy(df_past, 1.0)\n",
    "                    M_final, M_diffs = algo.metrics()\n",
    "                    tmp.extend([M_final, sum(np.array(M_diffs) > 0), sum(np.array(M_diffs) < 0)])\n",
    "                    algo.apply_strategy(df_future, 1.0)\n",
    "                    M_final, M_diffs = algo.metrics()\n",
    "                    tmp.extend([M_final, sum(np.array(M_diffs) > 0), sum(np.array(M_diffs) < 0)])\n",
    "                    results.append(tmp)\n",
    "                pbar.update(1)"
   ]
  },
  {
   "cell_type": "code",
   "execution_count": null,
   "metadata": {},
   "outputs": [],
   "source": [
    "df = pd.DataFrame(results, columns=['period', 'comp_code', 'strategy', 'params', 'M_past', 'L_past', 'W_past', 'M_future', 'L_future', 'W_future'])\n",
    "df.to_csv(f\"{data_path}/results_backtesting.csv\", sep=';', index=False)"
   ]
  },
  {
   "cell_type": "code",
   "execution_count": null,
   "metadata": {},
   "outputs": [],
   "source": [
    "df.describe()"
   ]
  },
  {
   "cell_type": "markdown",
   "metadata": {},
   "source": [
    "# 1.2 Backstesting MC"
   ]
  },
  {
   "cell_type": "code",
   "execution_count": null,
   "metadata": {},
   "outputs": [],
   "source": [
    "N_MC_Sims = 100"
   ]
  },
  {
   "cell_type": "code",
   "execution_count": null,
   "metadata": {},
   "outputs": [],
   "source": [
    "results = []\n",
    "periods = [\"1st\", \"2nd\", \"year\"]\n",
    "total = len(periods) * len(company_code_list) * len(strategies)\n",
    "with tqdm(total=total, smoothing=0) as pbar:\n",
    "    for period in periods:\n",
    "        for comp_code in company_code_list:\n",
    "            df_past, df_future = get_data_history(comp_code, intraday_data, period)\n",
    "            future_prev_list = get_data_history_BackMC(comp_code, intraday_data, period, N_MC_Sims)\n",
    "            for class_obj in strategies:\n",
    "                class_params = strategies_params[class_obj.__name__]\n",
    "                run_params = []\n",
    "                for params in class_params:\n",
    "                    if 'LOOKBACK_STRATEGY_PARAM' not in params:\n",
    "                        run_params.append(params)\n",
    "                    else:\n",
    "                        for lb in params['LOOKBACK_STRATEGY_PARAM']:\n",
    "                            tmp = dict(params)\n",
    "                            tmp['LOOKBACK_STRATEGY_PARAM'] = lb\n",
    "                            run_params.append(tmp)\n",
    "                for params in run_params:\n",
    "                    algo = class_obj(params)\n",
    "                    algo.apply_strategy(df_future, 1.0)\n",
    "                    M_final_future, M_diffs_future = algo.metrics()\n",
    "                    for sim_n, df_future_prev in enumerate(future_prev_list):\n",
    "                        tmp = [\n",
    "                            period,\n",
    "                            comp_code,\n",
    "                            class_obj.__name__,\n",
    "                            json.dumps(params),\n",
    "                            sim_n+1\n",
    "                        ]\n",
    "                        algo.apply_strategy(df_future_prev, 1.0)\n",
    "                        M_final, M_diffs = algo.metrics()\n",
    "                        tmp.extend([M_final, sum(np.array(M_diffs) > 0), sum(np.array(M_diffs) < 0)])\n",
    "                        M_final, M_diffs = M_final_future, M_diffs_future\n",
    "                        tmp.extend([M_final, sum(np.array(M_diffs) > 0), sum(np.array(M_diffs) < 0)])\n",
    "                        results.append(tmp)\n",
    "                pbar.update(1)"
   ]
  },
  {
   "cell_type": "code",
   "execution_count": null,
   "metadata": {},
   "outputs": [],
   "source": [
    "df = pd.DataFrame(results, columns=['period', 'comp_code', 'strategy', 'params', 'sim_n', 'M_past', 'L_past', 'W_past', 'M_future', 'L_future', 'W_future'])\n",
    "df.to_csv(f\"{data_path}/results_backtestingMC.csv\", sep=';', index=False)"
   ]
  },
  {
   "cell_type": "code",
   "execution_count": null,
   "metadata": {},
   "outputs": [],
   "source": [
    "df.describe()"
   ]
  },
  {
   "cell_type": "code",
   "execution_count": null,
   "metadata": {},
   "outputs": [],
   "source": [
    "df"
   ]
  },
  {
   "cell_type": "markdown",
   "metadata": {},
   "source": [
    "# 2. Analysis step"
   ]
  },
  {
   "cell_type": "code",
   "execution_count": 6,
   "metadata": {
    "execution": {
     "iopub.execute_input": "2024-11-24T20:03:45.405923Z",
     "iopub.status.busy": "2024-11-24T20:03:45.403517Z",
     "iopub.status.idle": "2024-11-24T20:03:45.453162Z",
     "shell.execute_reply": "2024-11-24T20:03:45.452794Z",
     "shell.execute_reply.started": "2024-11-24T20:03:45.405846Z"
    }
   },
   "outputs": [],
   "source": [
    "df_bt = pd.read_csv(f\"{data_path}/results_backtesting.csv\", sep=';')\n",
    "df_btmc = pd.read_csv(f\"{data_path}/results_backtestingMC.csv\", sep=';')"
   ]
  },
  {
   "cell_type": "markdown",
   "metadata": {},
   "source": [
    "# 2.1 Backtesting Traditional"
   ]
  },
  {
   "cell_type": "code",
   "execution_count": 26,
   "metadata": {
    "execution": {
     "iopub.execute_input": "2024-11-24T20:12:40.988334Z",
     "iopub.status.busy": "2024-11-24T20:12:40.988144Z",
     "iopub.status.idle": "2024-11-24T20:12:40.992866Z",
     "shell.execute_reply": "2024-11-24T20:12:40.992493Z",
     "shell.execute_reply.started": "2024-11-24T20:12:40.988322Z"
    }
   },
   "outputs": [],
   "source": [
    "group_cols = ['period', 'comp_code']\n",
    "target_col = 'M_future'\n",
    "top_cols = ['M_past'] # ['M_past', '-L_past', 'W_past', 'WL_past', 'M*WL_past']\n",
    "perf_rounding = 4\n",
    "\n",
    "def gen_new_metrics(df):\n",
    "    df['-L_past'] = - df['L_past']\n",
    "    df['WL_past'] = df['W_past'] - df['L_past']\n",
    "    df['M*WL_past'] = df['W_past'] * df['WL_past']\n",
    "    return df\n",
    "\n",
    "def gen_results(df, title, group_cols=group_cols):\n",
    "    #md(f'### {title}')\n",
    "    results = {}\n",
    "    target_series = {}\n",
    "    for top_col in top_cols:\n",
    "        top_index = df.sort_values(top_col, ascending=False).groupby(group_cols)[top_col].head(1).index\n",
    "        df_top = df.loc[top_index]\n",
    "        top_desc = df_top.describe()[target_col]\n",
    "        sum_M = df_top[target_col].sum()\n",
    "        top_mean = top_desc['mean']\n",
    "        top_std = round(top_desc['std'], perf_rounding)\n",
    "        top_min = round((top_desc['min'] -1), perf_rounding)\n",
    "        top_max = round((top_desc['max'] -1), perf_rounding)\n",
    "        overall_perf = \"+{:.2f}%\".format(100*float(round((top_mean - 1), perf_rounding)))\n",
    "        md(f\"## Overall perf.: {overall_perf}\")\n",
    "        target_series[top_col] = sorted(df_top[target_col])\n",
    "    return target_series\n",
    "\n",
    "def clean_patter(patt):\n",
    "    patt = \"\".join(patt.to_list()).replace(' ','').replace('\\\"','')\n",
    "    for col in hash_cols:\n",
    "        patt = patt.replace(col, '')\n",
    "    return patt"
   ]
  },
  {
   "cell_type": "code",
   "execution_count": 27,
   "metadata": {
    "execution": {
     "iopub.execute_input": "2024-11-24T20:12:41.177085Z",
     "iopub.status.busy": "2024-11-24T20:12:41.176565Z",
     "iopub.status.idle": "2024-11-24T20:12:41.193343Z",
     "shell.execute_reply": "2024-11-24T20:12:41.193102Z",
     "shell.execute_reply.started": "2024-11-24T20:12:41.177032Z"
    }
   },
   "outputs": [
    {
     "data": {
      "text/markdown": [
       "### BackTesting (Trad)"
      ],
      "text/plain": [
       "<IPython.core.display.Markdown object>"
      ]
     },
     "metadata": {},
     "output_type": "display_data"
    },
    {
     "data": {
      "text/markdown": [
       "## Overall perf.: +19.48%"
      ],
      "text/plain": [
       "<IPython.core.display.Markdown object>"
      ]
     },
     "metadata": {},
     "output_type": "display_data"
    }
   ],
   "source": [
    "df = df_bt.copy()\n",
    "df = gen_new_metrics(df_bt)\n",
    "ts_bt = gen_results(df_bt, 'BackTesting (Trad)')"
   ]
  },
  {
   "cell_type": "markdown",
   "metadata": {
    "execution": {
     "iopub.execute_input": "2024-11-24T20:14:59.341175Z",
     "iopub.status.busy": "2024-11-24T20:14:59.340589Z",
     "iopub.status.idle": "2024-11-24T20:14:59.345835Z",
     "shell.execute_reply": "2024-11-24T20:14:59.345231Z",
     "shell.execute_reply.started": "2024-11-24T20:14:59.341126Z"
    }
   },
   "source": [
    "# 1.2 Backstesting MC"
   ]
  },
  {
   "cell_type": "code",
   "execution_count": 29,
   "metadata": {
    "execution": {
     "iopub.execute_input": "2024-11-24T20:13:57.864329Z",
     "iopub.status.busy": "2024-11-24T20:13:57.863729Z",
     "iopub.status.idle": "2024-11-24T20:13:57.948591Z",
     "shell.execute_reply": "2024-11-24T20:13:57.948015Z",
     "shell.execute_reply.started": "2024-11-24T20:13:57.864281Z"
    }
   },
   "outputs": [],
   "source": [
    "df = df_btmc.copy()\n",
    "df = gen_new_metrics(df)\n",
    "sim_col = 'sim_n'\n",
    "hash_cols = ['period', 'comp_code', 'strategy', 'params']\n",
    "hash_col = 'hash'\n",
    "#df[hash_col] = df[hash_cols].apply(lambda x: clean_patter(x), axis=1)"
   ]
  },
  {
   "cell_type": "code",
   "execution_count": 31,
   "metadata": {
    "execution": {
     "iopub.execute_input": "2024-11-24T20:14:04.375447Z",
     "iopub.status.busy": "2024-11-24T20:14:04.374694Z",
     "iopub.status.idle": "2024-11-24T20:14:04.685217Z",
     "shell.execute_reply": "2024-11-24T20:14:04.684807Z",
     "shell.execute_reply.started": "2024-11-24T20:14:04.375377Z"
    }
   },
   "outputs": [
    {
     "data": {
      "text/markdown": [
       "## Overall perf.: +26.40%"
      ],
      "text/plain": [
       "<IPython.core.display.Markdown object>"
      ]
     },
     "metadata": {},
     "output_type": "display_data"
    }
   ],
   "source": [
    "df_agg = df.groupby(hash_cols).sum().reset_index()\n",
    "\n",
    "results = {}\n",
    "mc_ts = {}\n",
    "for top_col in top_cols:\n",
    "    top_index = df_agg.sort_values(top_col, ascending=False).groupby(group_cols)[top_col].head(1).index\n",
    "    df_top_sim = df_agg.loc[top_index][['period', 'comp_code', 'strategy', 'params']].reset_index(drop=True)\n",
    "    df_top = pd.merge(df_top_sim, df_bt, on=list(df_top_sim.columns))\n",
    "    df_top = df.loc[top_index]\n",
    "    top_desc = df_top.describe()[target_col]\n",
    "    sum_M = df_top[target_col].sum()\n",
    "    top_mean = top_desc['mean']\n",
    "    top_std = round(top_desc['std'], perf_rounding)\n",
    "    top_min = round((top_desc['min'] -1), perf_rounding)\n",
    "    top_max = round((top_desc['max'] -1), perf_rounding)\n",
    "    overall_perf = \"+{:.2f}%\".format(100*float(round((top_mean - 1), perf_rounding)))\n",
    "    md(f\"## Overall perf.: {overall_perf}\")\n"
   ]
  },
  {
   "cell_type": "markdown",
   "metadata": {},
   "source": [
    "# 3. Statistic validation"
   ]
  },
  {
   "cell_type": "code",
   "execution_count": null,
   "metadata": {},
   "outputs": [],
   "source": [
    "Results = []\n",
    "for col in top_cols:\n",
    "    a = ts_bt[col]\n",
    "    b = mc_ts[col]\n",
    "    result = stats.ttest_ind(a,b)\n",
    "    Results.append(['ttest_ind', col, result.pvalue, result.statistic])\n",
    "    result = stats.mannwhitneyu(a, b)\n",
    "    Results.append(['mannwhitneyu', col, result.pvalue, result.statistic])\n",
    "    result = stats.bws_test(a, b)\n",
    "    Results.append(['bws_test', col, result.pvalue, result.statistic])\n",
    "    result = stats.ranksums(a, b)\n",
    "    Results.append(['ranksums', col, result.pvalue, result.statistic])\n",
    "    result = stats.brunnermunzel(a, b)\n",
    "    Results.append(['brunnermunzel', col, result.pvalue, result.statistic])\n",
    "    result = stats.mood(a, b)\n",
    "    Results.append(['mood', col, result.pvalue, result.statistic])\n",
    "    result = stats.ansari(a, b)\n",
    "    Results.append(['ansari', col, result.pvalue, result.statistic])\n",
    "    result = stats.cramervonmises_2samp(a, b)\n",
    "    Results.append(['cramervonmises_2samp', col, result.pvalue, result.statistic])\n",
    "    result = stats.epps_singleton_2samp(a, b)\n",
    "    Results.append(['epps_singleton_2samp', col, result.pvalue, result.statistic])\n",
    "    result = stats.ks_2samp(a, b)\n",
    "    Results.append(['ks_2samp', col, result.pvalue, result.statistic])"
   ]
  },
  {
   "cell_type": "code",
   "execution_count": 58,
   "metadata": {
    "execution": {
     "iopub.execute_input": "2024-11-16T20:07:08.908276Z",
     "iopub.status.busy": "2024-11-16T20:07:08.907731Z",
     "iopub.status.idle": "2024-11-16T20:07:08.918260Z",
     "shell.execute_reply": "2024-11-16T20:07:08.916691Z",
     "shell.execute_reply.started": "2024-11-16T20:07:08.908234Z"
    }
   },
   "outputs": [],
   "source": [
    "df_stats_results = pd.DataFrame(Results, columns=['stats_method', 'col','p_value','t_value']).sort_values('p_value')"
   ]
  },
  {
   "cell_type": "markdown",
   "metadata": {
    "execution": {
     "iopub.execute_input": "2024-11-24T20:18:38.464155Z",
     "iopub.status.busy": "2024-11-24T20:18:38.462688Z",
     "iopub.status.idle": "2024-11-24T20:18:38.467511Z",
     "shell.execute_reply": "2024-11-24T20:18:38.467183Z",
     "shell.execute_reply.started": "2024-11-24T20:18:38.464030Z"
    }
   },
   "source": [
    "# 3.1 Main stats tests"
   ]
  },
  {
   "cell_type": "code",
   "execution_count": 59,
   "metadata": {
    "execution": {
     "iopub.execute_input": "2024-11-16T20:07:10.377386Z",
     "iopub.status.busy": "2024-11-16T20:07:10.377162Z",
     "iopub.status.idle": "2024-11-16T20:07:10.383473Z",
     "shell.execute_reply": "2024-11-16T20:07:10.383107Z",
     "shell.execute_reply.started": "2024-11-16T20:07:10.377369Z"
    }
   },
   "outputs": [
    {
     "data": {
      "text/html": [
       "<div>\n",
       "<style scoped>\n",
       "    .dataframe tbody tr th:only-of-type {\n",
       "        vertical-align: middle;\n",
       "    }\n",
       "\n",
       "    .dataframe tbody tr th {\n",
       "        vertical-align: top;\n",
       "    }\n",
       "\n",
       "    .dataframe thead th {\n",
       "        text-align: right;\n",
       "    }\n",
       "</style>\n",
       "<table border=\"1\" class=\"dataframe\">\n",
       "  <thead>\n",
       "    <tr style=\"text-align: right;\">\n",
       "      <th></th>\n",
       "      <th>stats_method</th>\n",
       "      <th>col</th>\n",
       "      <th>p_value</th>\n",
       "      <th>t_value</th>\n",
       "    </tr>\n",
       "  </thead>\n",
       "  <tbody>\n",
       "    <tr>\n",
       "      <th>4</th>\n",
       "      <td>brunnermunzel</td>\n",
       "      <td>M_past</td>\n",
       "      <td>0.000133</td>\n",
       "      <td>4.274090</td>\n",
       "    </tr>\n",
       "    <tr>\n",
       "      <th>2</th>\n",
       "      <td>bws_test</td>\n",
       "      <td>M_past</td>\n",
       "      <td>0.000300</td>\n",
       "      <td>7.925112</td>\n",
       "    </tr>\n",
       "    <tr>\n",
       "      <th>7</th>\n",
       "      <td>cramervonmises_2samp</td>\n",
       "      <td>M_past</td>\n",
       "      <td>0.000549</td>\n",
       "      <td>1.272135</td>\n",
       "    </tr>\n",
       "    <tr>\n",
       "      <th>3</th>\n",
       "      <td>ranksums</td>\n",
       "      <td>M_past</td>\n",
       "      <td>0.000597</td>\n",
       "      <td>-3.433172</td>\n",
       "    </tr>\n",
       "    <tr>\n",
       "      <th>1</th>\n",
       "      <td>mannwhitneyu</td>\n",
       "      <td>M_past</td>\n",
       "      <td>0.000619</td>\n",
       "      <td>121.500000</td>\n",
       "    </tr>\n",
       "    <tr>\n",
       "      <th>9</th>\n",
       "      <td>ks_2samp</td>\n",
       "      <td>M_past</td>\n",
       "      <td>0.001401</td>\n",
       "      <td>0.541667</td>\n",
       "    </tr>\n",
       "    <tr>\n",
       "      <th>0</th>\n",
       "      <td>ttest_ind</td>\n",
       "      <td>M_past</td>\n",
       "      <td>0.012130</td>\n",
       "      <td>-2.611585</td>\n",
       "    </tr>\n",
       "    <tr>\n",
       "      <th>8</th>\n",
       "      <td>epps_singleton_2samp</td>\n",
       "      <td>M_past</td>\n",
       "      <td>0.051770</td>\n",
       "      <td>9.403401</td>\n",
       "    </tr>\n",
       "    <tr>\n",
       "      <th>16</th>\n",
       "      <td>ansari</td>\n",
       "      <td>-L_past</td>\n",
       "      <td>0.060378</td>\n",
       "      <td>345.500000</td>\n",
       "    </tr>\n",
       "    <tr>\n",
       "      <th>15</th>\n",
       "      <td>mood</td>\n",
       "      <td>-L_past</td>\n",
       "      <td>0.070148</td>\n",
       "      <td>-1.810954</td>\n",
       "    </tr>\n",
       "  </tbody>\n",
       "</table>\n",
       "</div>"
      ],
      "text/plain": [
       "            stats_method      col   p_value     t_value\n",
       "4          brunnermunzel   M_past  0.000133    4.274090\n",
       "2               bws_test   M_past  0.000300    7.925112\n",
       "7   cramervonmises_2samp   M_past  0.000549    1.272135\n",
       "3               ranksums   M_past  0.000597   -3.433172\n",
       "1           mannwhitneyu   M_past  0.000619  121.500000\n",
       "9               ks_2samp   M_past  0.001401    0.541667\n",
       "0              ttest_ind   M_past  0.012130   -2.611585\n",
       "8   epps_singleton_2samp   M_past  0.051770    9.403401\n",
       "16                ansari  -L_past  0.060378  345.500000\n",
       "15                  mood  -L_past  0.070148   -1.810954"
      ]
     },
     "execution_count": 59,
     "metadata": {},
     "output_type": "execute_result"
    }
   ],
   "source": [
    "df_stats_results.groupby('stats_method').head(1)"
   ]
  },
  {
   "cell_type": "markdown",
   "metadata": {},
   "source": [
    "# Test-t"
   ]
  },
  {
   "cell_type": "code",
   "execution_count": 60,
   "metadata": {
    "execution": {
     "iopub.execute_input": "2024-11-16T20:07:12.712540Z",
     "iopub.status.busy": "2024-11-16T20:07:12.712393Z",
     "iopub.status.idle": "2024-11-16T20:07:12.718979Z",
     "shell.execute_reply": "2024-11-16T20:07:12.718582Z",
     "shell.execute_reply.started": "2024-11-16T20:07:12.712530Z"
    }
   },
   "outputs": [
    {
     "data": {
      "text/html": [
       "<div>\n",
       "<style scoped>\n",
       "    .dataframe tbody tr th:only-of-type {\n",
       "        vertical-align: middle;\n",
       "    }\n",
       "\n",
       "    .dataframe tbody tr th {\n",
       "        vertical-align: top;\n",
       "    }\n",
       "\n",
       "    .dataframe thead th {\n",
       "        text-align: right;\n",
       "    }\n",
       "</style>\n",
       "<table border=\"1\" class=\"dataframe\">\n",
       "  <thead>\n",
       "    <tr style=\"text-align: right;\">\n",
       "      <th></th>\n",
       "      <th>stats_method</th>\n",
       "      <th>col</th>\n",
       "      <th>p_value</th>\n",
       "      <th>t_value</th>\n",
       "    </tr>\n",
       "  </thead>\n",
       "  <tbody>\n",
       "    <tr>\n",
       "      <th>0</th>\n",
       "      <td>ttest_ind</td>\n",
       "      <td>M_past</td>\n",
       "      <td>0.012130</td>\n",
       "      <td>-2.611585</td>\n",
       "    </tr>\n",
       "    <tr>\n",
       "      <th>10</th>\n",
       "      <td>ttest_ind</td>\n",
       "      <td>-L_past</td>\n",
       "      <td>0.289874</td>\n",
       "      <td>1.070737</td>\n",
       "    </tr>\n",
       "    <tr>\n",
       "      <th>30</th>\n",
       "      <td>ttest_ind</td>\n",
       "      <td>WL_past</td>\n",
       "      <td>0.365385</td>\n",
       "      <td>0.914189</td>\n",
       "    </tr>\n",
       "    <tr>\n",
       "      <th>40</th>\n",
       "      <td>ttest_ind</td>\n",
       "      <td>M*WL_past</td>\n",
       "      <td>0.411836</td>\n",
       "      <td>0.828197</td>\n",
       "    </tr>\n",
       "    <tr>\n",
       "      <th>20</th>\n",
       "      <td>ttest_ind</td>\n",
       "      <td>W_past</td>\n",
       "      <td>0.502833</td>\n",
       "      <td>0.675352</td>\n",
       "    </tr>\n",
       "  </tbody>\n",
       "</table>\n",
       "</div>"
      ],
      "text/plain": [
       "   stats_method        col   p_value   t_value\n",
       "0     ttest_ind     M_past  0.012130 -2.611585\n",
       "10    ttest_ind    -L_past  0.289874  1.070737\n",
       "30    ttest_ind    WL_past  0.365385  0.914189\n",
       "40    ttest_ind  M*WL_past  0.411836  0.828197\n",
       "20    ttest_ind     W_past  0.502833  0.675352"
      ]
     },
     "execution_count": 60,
     "metadata": {},
     "output_type": "execute_result"
    }
   ],
   "source": [
    "df_stats_results.query('stats_method == \"ttest_ind\"')"
   ]
  },
  {
   "cell_type": "markdown",
   "metadata": {},
   "source": [
    "## 3.1 Conclusions\n",
    "\n",
    "- With the MC approach, it is possible to obtain a greater financial return.\n",
    "- Have stistic significance (test-t, p-value <5%)\n",
    "\n",
    "## 3.2 Next Steps:\n",
    "\n",
    "- Implement more strategies.\n",
    "- Use more companies.",
    "- Use the forecast and try to predict the next day (or another period) to enrich the strategy."
   ]
  },
  {
   "cell_type": "code",
   "execution_count": null,
   "metadata": {},
   "outputs": [],
   "source": []
  }
 ],
 "metadata": {
  "kernelspec": {
   "display_name": "Python 3 (ipykernel)",
   "language": "python",
   "name": "python3"
  },
  "language_info": {
   "codemirror_mode": {
    "name": "ipython",
    "version": 3
   },
   "file_extension": ".py",
   "mimetype": "text/x-python",
   "name": "python",
   "nbconvert_exporter": "python",
   "pygments_lexer": "ipython3",
   "version": "3.11.10"
  }
 },
 "nbformat": 4,
 "nbformat_minor": 4
}
